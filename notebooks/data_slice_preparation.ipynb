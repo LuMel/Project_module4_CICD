{
 "cells": [
  {
   "cell_type": "code",
   "execution_count": 1,
   "metadata": {},
   "outputs": [],
   "source": [
    "import os\n",
    "import sys\n",
    "module_path = os.path.abspath(os.path.join('..'))\n",
    "if module_path not in sys.path:\n",
    "    sys.path.append(module_path)"
   ]
  },
  {
   "cell_type": "code",
   "execution_count": 2,
   "metadata": {},
   "outputs": [],
   "source": [
    "import pandas as pd\n",
    "import numpy as np\n",
    "from src.prepare_data import process_data, remove_spaces\n",
    "from src import model\n",
    "from sklearn.model_selection import train_test_split\n",
    "import yaml\n",
    "import pickle\n",
    "import os\n"
   ]
  },
  {
   "cell_type": "code",
   "execution_count": 3,
   "metadata": {},
   "outputs": [],
   "source": [
    "data_raw = pd.read_csv(\"../data/census.csv\")"
   ]
  },
  {
   "cell_type": "code",
   "execution_count": 4,
   "metadata": {},
   "outputs": [
    {
     "data": {
      "text/plain": [
       "Index(['age', ' workclass', ' fnlgt', ' education', ' education-num',\n",
       "       ' marital-status', ' occupation', ' relationship', ' race', ' sex',\n",
       "       ' capital-gain', ' capital-loss', ' hours-per-week', ' native-country',\n",
       "       ' salary'],\n",
       "      dtype='object')"
      ]
     },
     "execution_count": 4,
     "metadata": {},
     "output_type": "execute_result"
    }
   ],
   "source": [
    "data_raw.columns"
   ]
  },
  {
   "cell_type": "code",
   "execution_count": 103,
   "metadata": {},
   "outputs": [],
   "source": [
    "parameters = yaml.safe_load(open('../params.yaml'))\n",
    "\n",
    "cat_features = list(parameters['data']['categorical_features'])\n",
    "\n",
    "# pre cleaning\n",
    "data = remove_spaces(data_raw, cat_features)\n",
    "\n",
    "# Optional enhancement, use K-fold cross validation instead of a train-test split.\n",
    "train, test = train_test_split(data, \n",
    "                                test_size=float(parameters['data']['train_test_split']))\n",
    "\n",
    "X_train, y_train, encoder, lb = process_data(\n",
    "    train, categorical_features=cat_features, label=\"salary\", training=True\n",
    ")\n",
    "\n",
    "# Proces the test data with the process_data function.\n",
    "X_test, y_test, encoder, lb = process_data(\n",
    "    test, categorical_features=cat_features, label=\"salary\", training=False,\n",
    "    encoder=encoder, lb=lb\n",
    ")\n",
    "\n",
    "Xy_train = np.concatenate([X_train, y_train.reshape(y_train.shape[0],1)], axis=1)\n",
    "Xy_test = np.concatenate([X_test, y_test.reshape(y_test.shape[0],1)], axis=1)\n",
    "\n",
    "depth_ = parameters['model']['max_depth']\n",
    "imbalance_ = parameters['model']['imbalance']\n",
    "# Train and save a model.\n",
    "fitted_model = model.train_model(X_train, y_train, max_depth = depth_, imbalance=imbalance_)"
   ]
  },
  {
   "cell_type": "code",
   "execution_count": 69,
   "metadata": {},
   "outputs": [],
   "source": [
    "num_feats = parameters['data']['numerical_features']"
   ]
  },
  {
   "cell_type": "code",
   "execution_count": 71,
   "metadata": {},
   "outputs": [
    {
     "data": {
      "text/plain": [
       "6"
      ]
     },
     "execution_count": 71,
     "metadata": {},
     "output_type": "execute_result"
    }
   ],
   "source": [
    "len(num_feats)"
   ]
  },
  {
   "cell_type": "code",
   "execution_count": 37,
   "metadata": {},
   "outputs": [],
   "source": [
    "# all the numerical columns go first! count from idx_num on\n",
    "# this is counting salary but it is ok because enumerate starts counting from 0\n",
    "idx_num = len([col for col in test if col not in cat_features]) - 1\n",
    "\n",
    "cols_look = [col for col in encoder.get_feature_names_out() if col[3:] in test['education'].unique()]\n",
    "cols_idx = [idx_num + i for i, e in enumerate(encoder.get_feature_names_out()) if e in cols_look]\n",
    "cols_name = [e for _, e in enumerate(encoder.get_feature_names_out()) if e in cols_look]\n",
    "X_test_f = X_test[:, cols_idx].copy()"
   ]
  },
  {
   "cell_type": "code",
   "execution_count": 72,
   "metadata": {},
   "outputs": [
    {
     "data": {
      "text/plain": [
       "6"
      ]
     },
     "execution_count": 72,
     "metadata": {},
     "output_type": "execute_result"
    }
   ],
   "source": [
    "idx_num"
   ]
  },
  {
   "cell_type": "code",
   "execution_count": 51,
   "metadata": {},
   "outputs": [
    {
     "data": {
      "text/html": [
       "<div>\n",
       "<style scoped>\n",
       "    .dataframe tbody tr th:only-of-type {\n",
       "        vertical-align: middle;\n",
       "    }\n",
       "\n",
       "    .dataframe tbody tr th {\n",
       "        vertical-align: top;\n",
       "    }\n",
       "\n",
       "    .dataframe thead th {\n",
       "        text-align: right;\n",
       "    }\n",
       "</style>\n",
       "<table border=\"1\" class=\"dataframe\">\n",
       "  <thead>\n",
       "    <tr style=\"text-align: right;\">\n",
       "      <th></th>\n",
       "      <th>workclass</th>\n",
       "      <th>education</th>\n",
       "      <th>marital-status</th>\n",
       "      <th>occupation</th>\n",
       "      <th>relationship</th>\n",
       "      <th>race</th>\n",
       "      <th>sex</th>\n",
       "      <th>native-country</th>\n",
       "    </tr>\n",
       "  </thead>\n",
       "  <tbody>\n",
       "    <tr>\n",
       "      <th>19431</th>\n",
       "      <td>Private</td>\n",
       "      <td>HS-grad</td>\n",
       "      <td>Never-married</td>\n",
       "      <td>Adm-clerical</td>\n",
       "      <td>Own-child</td>\n",
       "      <td>White</td>\n",
       "      <td>Male</td>\n",
       "      <td>United-States</td>\n",
       "    </tr>\n",
       "    <tr>\n",
       "      <th>4618</th>\n",
       "      <td>Private</td>\n",
       "      <td>Bachelors</td>\n",
       "      <td>Married-civ-spouse</td>\n",
       "      <td>Exec-managerial</td>\n",
       "      <td>Husband</td>\n",
       "      <td>White</td>\n",
       "      <td>Male</td>\n",
       "      <td>United-States</td>\n",
       "    </tr>\n",
       "    <tr>\n",
       "      <th>27267</th>\n",
       "      <td>?</td>\n",
       "      <td>Bachelors</td>\n",
       "      <td>Married-civ-spouse</td>\n",
       "      <td>?</td>\n",
       "      <td>Husband</td>\n",
       "      <td>White</td>\n",
       "      <td>Male</td>\n",
       "      <td>United-States</td>\n",
       "    </tr>\n",
       "    <tr>\n",
       "      <th>10176</th>\n",
       "      <td>Private</td>\n",
       "      <td>12th</td>\n",
       "      <td>Separated</td>\n",
       "      <td>Priv-house-serv</td>\n",
       "      <td>Unmarried</td>\n",
       "      <td>Black</td>\n",
       "      <td>Female</td>\n",
       "      <td>United-States</td>\n",
       "    </tr>\n",
       "    <tr>\n",
       "      <th>17298</th>\n",
       "      <td>Self-emp-not-inc</td>\n",
       "      <td>HS-grad</td>\n",
       "      <td>Separated</td>\n",
       "      <td>Other-service</td>\n",
       "      <td>Not-in-family</td>\n",
       "      <td>White</td>\n",
       "      <td>Female</td>\n",
       "      <td>United-States</td>\n",
       "    </tr>\n",
       "    <tr>\n",
       "      <th>...</th>\n",
       "      <td>...</td>\n",
       "      <td>...</td>\n",
       "      <td>...</td>\n",
       "      <td>...</td>\n",
       "      <td>...</td>\n",
       "      <td>...</td>\n",
       "      <td>...</td>\n",
       "      <td>...</td>\n",
       "    </tr>\n",
       "    <tr>\n",
       "      <th>26785</th>\n",
       "      <td>Private</td>\n",
       "      <td>11th</td>\n",
       "      <td>Divorced</td>\n",
       "      <td>Craft-repair</td>\n",
       "      <td>Not-in-family</td>\n",
       "      <td>White</td>\n",
       "      <td>Male</td>\n",
       "      <td>United-States</td>\n",
       "    </tr>\n",
       "    <tr>\n",
       "      <th>21165</th>\n",
       "      <td>Private</td>\n",
       "      <td>HS-grad</td>\n",
       "      <td>Married-civ-spouse</td>\n",
       "      <td>Exec-managerial</td>\n",
       "      <td>Husband</td>\n",
       "      <td>White</td>\n",
       "      <td>Male</td>\n",
       "      <td>United-States</td>\n",
       "    </tr>\n",
       "    <tr>\n",
       "      <th>14900</th>\n",
       "      <td>Private</td>\n",
       "      <td>7th-8th</td>\n",
       "      <td>Married-civ-spouse</td>\n",
       "      <td>Craft-repair</td>\n",
       "      <td>Husband</td>\n",
       "      <td>White</td>\n",
       "      <td>Male</td>\n",
       "      <td>Portugal</td>\n",
       "    </tr>\n",
       "    <tr>\n",
       "      <th>26008</th>\n",
       "      <td>Private</td>\n",
       "      <td>HS-grad</td>\n",
       "      <td>Married-civ-spouse</td>\n",
       "      <td>Other-service</td>\n",
       "      <td>Husband</td>\n",
       "      <td>White</td>\n",
       "      <td>Male</td>\n",
       "      <td>United-States</td>\n",
       "    </tr>\n",
       "    <tr>\n",
       "      <th>25469</th>\n",
       "      <td>Self-emp-not-inc</td>\n",
       "      <td>Bachelors</td>\n",
       "      <td>Married-civ-spouse</td>\n",
       "      <td>Sales</td>\n",
       "      <td>Other-relative</td>\n",
       "      <td>White</td>\n",
       "      <td>Male</td>\n",
       "      <td>United-States</td>\n",
       "    </tr>\n",
       "  </tbody>\n",
       "</table>\n",
       "<p>6513 rows × 8 columns</p>\n",
       "</div>"
      ],
      "text/plain": [
       "              workclass  education      marital-status       occupation  \\\n",
       "19431           Private    HS-grad       Never-married     Adm-clerical   \n",
       "4618            Private  Bachelors  Married-civ-spouse  Exec-managerial   \n",
       "27267                 ?  Bachelors  Married-civ-spouse                ?   \n",
       "10176           Private       12th           Separated  Priv-house-serv   \n",
       "17298  Self-emp-not-inc    HS-grad           Separated    Other-service   \n",
       "...                 ...        ...                 ...              ...   \n",
       "26785           Private       11th            Divorced     Craft-repair   \n",
       "21165           Private    HS-grad  Married-civ-spouse  Exec-managerial   \n",
       "14900           Private    7th-8th  Married-civ-spouse     Craft-repair   \n",
       "26008           Private    HS-grad  Married-civ-spouse    Other-service   \n",
       "25469  Self-emp-not-inc  Bachelors  Married-civ-spouse            Sales   \n",
       "\n",
       "         relationship   race     sex native-country  \n",
       "19431       Own-child  White    Male  United-States  \n",
       "4618          Husband  White    Male  United-States  \n",
       "27267         Husband  White    Male  United-States  \n",
       "10176       Unmarried  Black  Female  United-States  \n",
       "17298   Not-in-family  White  Female  United-States  \n",
       "...               ...    ...     ...            ...  \n",
       "26785   Not-in-family  White    Male  United-States  \n",
       "21165         Husband  White    Male  United-States  \n",
       "14900         Husband  White    Male       Portugal  \n",
       "26008         Husband  White    Male  United-States  \n",
       "25469  Other-relative  White    Male  United-States  \n",
       "\n",
       "[6513 rows x 8 columns]"
      ]
     },
     "execution_count": 51,
     "metadata": {},
     "output_type": "execute_result"
    }
   ],
   "source": [
    "test[cat_features]"
   ]
  },
  {
   "cell_type": "code",
   "execution_count": 76,
   "metadata": {},
   "outputs": [
    {
     "ename": "IndexError",
     "evalue": "index 0 is out of bounds for axis 0 with size 0",
     "output_type": "error",
     "traceback": [
      "\u001b[0;31m---------------------------------------------------------------------------\u001b[0m",
      "\u001b[0;31mIndexError\u001b[0m                                Traceback (most recent call last)",
      "\u001b[0;32m/tmp/ipykernel_358/1746544174.py\u001b[0m in \u001b[0;36m<module>\u001b[0;34m\u001b[0m\n\u001b[0;32m----> 1\u001b[0;31m \u001b[0mnp\u001b[0m\u001b[0;34m.\u001b[0m\u001b[0mwhere\u001b[0m\u001b[0;34m(\u001b[0m\u001b[0mnp\u001b[0m\u001b[0;34m.\u001b[0m\u001b[0marray\u001b[0m\u001b[0;34m(\u001b[0m\u001b[0mcat_features\u001b[0m\u001b[0;34m)\u001b[0m \u001b[0;34m==\u001b[0m \u001b[0;34m'educatiosn'\u001b[0m\u001b[0;34m)\u001b[0m\u001b[0;34m[\u001b[0m\u001b[0;36m0\u001b[0m\u001b[0;34m]\u001b[0m\u001b[0;34m[\u001b[0m\u001b[0;36m0\u001b[0m\u001b[0;34m]\u001b[0m\u001b[0;34m\u001b[0m\u001b[0;34m\u001b[0m\u001b[0m\n\u001b[0m",
      "\u001b[0;31mIndexError\u001b[0m: index 0 is out of bounds for axis 0 with size 0"
     ]
    }
   ],
   "source": [
    "np.where(np.array(cat_features) == 'educatiosn')[0][0]"
   ]
  },
  {
   "cell_type": "code",
   "execution_count": 74,
   "metadata": {},
   "outputs": [],
   "source": [
    "\n",
    "cols_look = [col for col in encoder.get_feature_names_out() if col[3:] in encoder.__dict__['categories_'][np.where(np.array(cat_features) == 'education')[0][0]]]\n",
    "cols_idx = [len(num_feats) + i for i, e in enumerate(encoder.get_feature_names_out()) if e in cols_look]\n",
    "cols_name = [e for _, e in enumerate(encoder.get_feature_names_out()) if e in cols_look]\n",
    "X_test_f = X_test[:, cols_idx].copy()"
   ]
  },
  {
   "cell_type": "code",
   "execution_count": 75,
   "metadata": {},
   "outputs": [
    {
     "data": {
      "text/plain": [
       "array([1.])"
      ]
     },
     "execution_count": 75,
     "metadata": {},
     "output_type": "execute_result"
    }
   ],
   "source": [
    "np.unique(np.sum(X_test_f, axis=1))"
   ]
  },
  {
   "cell_type": "code",
   "execution_count": 135,
   "metadata": {},
   "outputs": [],
   "source": [
    "def performance_slice(onehotenc, fitted_model, col: str, value: str, X, y):\n",
    "\n",
    "    try:\n",
    "        idx_col = np.where(np.array(cat_features) == col)[0][0]\n",
    "    except IndexError as err:\n",
    "        raise err\n",
    "    \n",
    "    cols_look = [col for col in onehotenc.get_feature_names_out() if col[3:] in onehotenc.__dict__['categories_'][idx_col]]\n",
    "    cols_idx = [len(num_feats) + i for i, e in enumerate(onehotenc.get_feature_names_out()) if e in cols_look]\n",
    "\n",
    "    if value is None:\n",
    "        performance = list()\n",
    "        for idx in cols_idx:\n",
    "            X_test_f = X[X[:, idx] == 1.].copy()\n",
    "            y_test_f = y[X[:, idx] == 1.].copy()\n",
    "            performance.append(model.compute_model_metrics(y_test_f, model.inference(fitted_model, X_test_f)))\n",
    "        df_performance = pd.DataFrame(performance, columns = ['precision', 'recall', 'fbeta'], index =cols_look) \n",
    "        df_performance.index.name = col\n",
    "        return df_performance\n",
    "\n",
    "    value_look = value_look = [col for col in onehotenc.get_feature_names_out() if col[3:] == value]\n",
    "    value_idx = [len(num_feats) + i for i, e in enumerate(onehotenc.get_feature_names_out()) if e in value_look]\n",
    "\n",
    "    assert len(list(set(cols_idx) & set(value_idx))) > 0,  \"value does not belong to column\"\n",
    "    assert len(value_idx) == 1, 'value was either not found or found multiple times'\n",
    "    X_test_f = X[X[:, value_idx[0]] == 1.].copy()\n",
    "    y_test_f = y[X[:, value_idx[0]] == 1.].copy()\n",
    "    \n",
    "    return model.compute_model_metrics(y_test_f, model.inference(fitted_model, X_test_f))\n"
   ]
  },
  {
   "cell_type": "code",
   "execution_count": 122,
   "metadata": {},
   "outputs": [],
   "source": [
    "xy_test = pd.read_pickle(\"../data/prepared/test.pkl\")\n",
    "model_ = pd.read_pickle(\"../model/model/rfc.pkl\")\n",
    "encoder_ = pd.read_pickle(\"../data/encoders/onehotenc.pkl\")\n",
    "\n",
    "X_test = xy_test[:,:-1]\n",
    "y_test = xy_test[:,-1]"
   ]
  },
  {
   "cell_type": "code",
   "execution_count": 136,
   "metadata": {},
   "outputs": [
    {
     "data": {
      "text/html": [
       "<div>\n",
       "<style scoped>\n",
       "    .dataframe tbody tr th:only-of-type {\n",
       "        vertical-align: middle;\n",
       "    }\n",
       "\n",
       "    .dataframe tbody tr th {\n",
       "        vertical-align: top;\n",
       "    }\n",
       "\n",
       "    .dataframe thead th {\n",
       "        text-align: right;\n",
       "    }\n",
       "</style>\n",
       "<table border=\"1\" class=\"dataframe\">\n",
       "  <thead>\n",
       "    <tr style=\"text-align: right;\">\n",
       "      <th></th>\n",
       "      <th>precision</th>\n",
       "      <th>recall</th>\n",
       "      <th>fbeta</th>\n",
       "    </tr>\n",
       "    <tr>\n",
       "      <th>education</th>\n",
       "      <th></th>\n",
       "      <th></th>\n",
       "      <th></th>\n",
       "    </tr>\n",
       "  </thead>\n",
       "  <tbody>\n",
       "    <tr>\n",
       "      <th>x1_10th</th>\n",
       "      <td>0.177778</td>\n",
       "      <td>0.615385</td>\n",
       "      <td>0.275862</td>\n",
       "    </tr>\n",
       "    <tr>\n",
       "      <th>x1_11th</th>\n",
       "      <td>0.214286</td>\n",
       "      <td>0.642857</td>\n",
       "      <td>0.321429</td>\n",
       "    </tr>\n",
       "    <tr>\n",
       "      <th>x1_12th</th>\n",
       "      <td>0.333333</td>\n",
       "      <td>1.000000</td>\n",
       "      <td>0.500000</td>\n",
       "    </tr>\n",
       "    <tr>\n",
       "      <th>x1_1st-4th</th>\n",
       "      <td>0.066667</td>\n",
       "      <td>1.000000</td>\n",
       "      <td>0.125000</td>\n",
       "    </tr>\n",
       "    <tr>\n",
       "      <th>x1_5th-6th</th>\n",
       "      <td>0.161290</td>\n",
       "      <td>0.833333</td>\n",
       "      <td>0.270270</td>\n",
       "    </tr>\n",
       "    <tr>\n",
       "      <th>x1_7th-8th</th>\n",
       "      <td>0.159420</td>\n",
       "      <td>0.916667</td>\n",
       "      <td>0.271605</td>\n",
       "    </tr>\n",
       "    <tr>\n",
       "      <th>x1_9th</th>\n",
       "      <td>0.135135</td>\n",
       "      <td>0.714286</td>\n",
       "      <td>0.227273</td>\n",
       "    </tr>\n",
       "    <tr>\n",
       "      <th>x1_Assoc-acdm</th>\n",
       "      <td>0.509804</td>\n",
       "      <td>0.866667</td>\n",
       "      <td>0.641975</td>\n",
       "    </tr>\n",
       "    <tr>\n",
       "      <th>x1_Assoc-voc</th>\n",
       "      <td>0.450331</td>\n",
       "      <td>0.883117</td>\n",
       "      <td>0.596491</td>\n",
       "    </tr>\n",
       "    <tr>\n",
       "      <th>x1_Bachelors</th>\n",
       "      <td>0.672881</td>\n",
       "      <td>0.892135</td>\n",
       "      <td>0.767150</td>\n",
       "    </tr>\n",
       "    <tr>\n",
       "      <th>x1_Doctorate</th>\n",
       "      <td>0.816901</td>\n",
       "      <td>0.828571</td>\n",
       "      <td>0.822695</td>\n",
       "    </tr>\n",
       "    <tr>\n",
       "      <th>x1_HS-grad</th>\n",
       "      <td>0.319413</td>\n",
       "      <td>0.909968</td>\n",
       "      <td>0.472849</td>\n",
       "    </tr>\n",
       "    <tr>\n",
       "      <th>x1_Masters</th>\n",
       "      <td>0.735426</td>\n",
       "      <td>0.886486</td>\n",
       "      <td>0.803922</td>\n",
       "    </tr>\n",
       "    <tr>\n",
       "      <th>x1_Preschool</th>\n",
       "      <td>0.000000</td>\n",
       "      <td>1.000000</td>\n",
       "      <td>0.000000</td>\n",
       "    </tr>\n",
       "    <tr>\n",
       "      <th>x1_Prof-school</th>\n",
       "      <td>0.797872</td>\n",
       "      <td>0.882353</td>\n",
       "      <td>0.837989</td>\n",
       "    </tr>\n",
       "    <tr>\n",
       "      <th>x1_Some-college</th>\n",
       "      <td>0.430314</td>\n",
       "      <td>0.894928</td>\n",
       "      <td>0.581176</td>\n",
       "    </tr>\n",
       "  </tbody>\n",
       "</table>\n",
       "</div>"
      ],
      "text/plain": [
       "                 precision    recall     fbeta\n",
       "education                                     \n",
       "x1_10th           0.177778  0.615385  0.275862\n",
       "x1_11th           0.214286  0.642857  0.321429\n",
       "x1_12th           0.333333  1.000000  0.500000\n",
       "x1_1st-4th        0.066667  1.000000  0.125000\n",
       "x1_5th-6th        0.161290  0.833333  0.270270\n",
       "x1_7th-8th        0.159420  0.916667  0.271605\n",
       "x1_9th            0.135135  0.714286  0.227273\n",
       "x1_Assoc-acdm     0.509804  0.866667  0.641975\n",
       "x1_Assoc-voc      0.450331  0.883117  0.596491\n",
       "x1_Bachelors      0.672881  0.892135  0.767150\n",
       "x1_Doctorate      0.816901  0.828571  0.822695\n",
       "x1_HS-grad        0.319413  0.909968  0.472849\n",
       "x1_Masters        0.735426  0.886486  0.803922\n",
       "x1_Preschool      0.000000  1.000000  0.000000\n",
       "x1_Prof-school    0.797872  0.882353  0.837989\n",
       "x1_Some-college   0.430314  0.894928  0.581176"
      ]
     },
     "execution_count": 136,
     "metadata": {},
     "output_type": "execute_result"
    }
   ],
   "source": [
    "performance_slice(encoder_, model_, 'education', None, X_test,y_test)"
   ]
  },
  {
   "cell_type": "code",
   "execution_count": 116,
   "metadata": {},
   "outputs": [
    {
     "data": {
      "text/plain": [
       "(0.17543859649122806, 0.9090909090909091, 0.2941176470588235)"
      ]
     },
     "execution_count": 116,
     "metadata": {},
     "output_type": "execute_result"
    }
   ],
   "source": [
    "performance_slice(encoder, fitted_model, 'education', '10th', X_test, y_test)"
   ]
  },
  {
   "cell_type": "code",
   "execution_count": 83,
   "metadata": {},
   "outputs": [],
   "source": [
    "value = 'Farming-fishing'\n",
    "value_look = [col for col in encoder.get_feature_names_out() if col[3:] == value]"
   ]
  },
  {
   "cell_type": "code",
   "execution_count": 86,
   "metadata": {},
   "outputs": [],
   "source": [
    "value_idx = [len(num_feats) + i for i, e in enumerate(encoder.get_feature_names_out()) if e in value_look]"
   ]
  },
  {
   "cell_type": "code",
   "execution_count": 88,
   "metadata": {},
   "outputs": [
    {
     "data": {
      "text/plain": [
       "[]"
      ]
     },
     "execution_count": 88,
     "metadata": {},
     "output_type": "execute_result"
    }
   ],
   "source": [
    "list(set(cols_idx) & set(value_idx))"
   ]
  },
  {
   "cell_type": "code",
   "execution_count": 16,
   "metadata": {},
   "outputs": [
    {
     "data": {
      "text/plain": [
       "[15, 16, 17, 18, 19, 20, 21, 22, 23, 24, 25, 26, 27, 28, 29, 30]"
      ]
     },
     "execution_count": 16,
     "metadata": {},
     "output_type": "execute_result"
    }
   ],
   "source": [
    "cols_idx"
   ]
  },
  {
   "cell_type": "code",
   "execution_count": 17,
   "metadata": {},
   "outputs": [
    {
     "data": {
      "text/plain": [
       "['x1_10th',\n",
       " 'x1_11th',\n",
       " 'x1_12th',\n",
       " 'x1_1st-4th',\n",
       " 'x1_5th-6th',\n",
       " 'x1_7th-8th',\n",
       " 'x1_9th',\n",
       " 'x1_Assoc-acdm',\n",
       " 'x1_Assoc-voc',\n",
       " 'x1_Bachelors',\n",
       " 'x1_Doctorate',\n",
       " 'x1_HS-grad',\n",
       " 'x1_Masters',\n",
       " 'x1_Preschool',\n",
       " 'x1_Prof-school',\n",
       " 'x1_Some-college']"
      ]
     },
     "execution_count": 17,
     "metadata": {},
     "output_type": "execute_result"
    }
   ],
   "source": [
    "cols_name"
   ]
  },
  {
   "cell_type": "code",
   "execution_count": null,
   "metadata": {},
   "outputs": [],
   "source": []
  }
 ],
 "metadata": {
  "interpreter": {
   "hash": "8151f7ed06cb0f80a190d1c4e03c3977e5541c0b8efa1627ee3e4826b8a1f8e8"
  },
  "kernelspec": {
   "display_name": "Python 3.8.12 64-bit ('udacity_project_cicd': conda)",
   "language": "python",
   "name": "python3"
  },
  "language_info": {
   "codemirror_mode": {
    "name": "ipython",
    "version": 3
   },
   "file_extension": ".py",
   "mimetype": "text/x-python",
   "name": "python",
   "nbconvert_exporter": "python",
   "pygments_lexer": "ipython3",
   "version": "3.8.12"
  },
  "orig_nbformat": 4
 },
 "nbformat": 4,
 "nbformat_minor": 2
}
